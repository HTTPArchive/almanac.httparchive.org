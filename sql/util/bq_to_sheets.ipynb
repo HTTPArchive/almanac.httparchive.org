{
  "cells": [
    {
      "cell_type": "markdown",
      "metadata": {},
      "source": [
        "<a href=\"https://colab.research.google.com/github/HTTPArchive/almanac.httparchive.org/blob/fellow-vicuna/sql/util/bq_to_sheets.ipynb\" target=\"_parent\"><img src=\"https://colab.research.google.com/assets/colab-badge.svg\" alt=\"Open In Colab\"/></a>"
      ]
    },
    {
      "cell_type": "code",
      "execution_count": 10,
      "metadata": {
        "cellView": "form",
        "id": "U37785Bxt5tE"
      },
      "outputs": [],
      "source": [
        "# @title Configure the chapter\n",
        "year = 2024 #@param {type: \"integer\"}\n",
        "chapter = \"privacy\" #@param {type: \"string\"}\n",
        "\n",
        "# BigQuery\n",
        "GCP_PROJECT = \"httparchive\" #@param {type: \"string\"}\n",
        "\n",
        "# Git\n",
        "branch_name = f\"{chapter.lower()}-sql-{year}\"\n",
        "\n",
        "# SQL folder\n",
        "folder = r'almanac.httparchive.org/sql/{year}/{chapter}/*.sql'.format(\n",
        "    year=year,\n",
        "    chapter=chapter.lower()\n",
        ")\n",
        "\n",
        "# Google Sheets\n",
        "spreadsheet_name = f\"{chapter.capitalize()} (Web Almanac {year})\"\n",
        "\n",
        "# Set to `None` to create new one or an existing spreadsheet URL.\n",
        "existing_spreadsheet_url = 'https://docs.google.com/spreadsheets/d/18r8cT6x9lPdM-rXvXjsqx84W7ZDdTDYGD59xr0UGOwg/edit' #@param {type: \"string\"}"
      ]
    },
    {
      "cell_type": "code",
      "execution_count": null,
      "metadata": {
        "cellView": "form",
        "id": "OVkCxlRQH6Yt"
      },
      "outputs": [],
      "source": [
        "# @title Download repo\n",
        "!git clone -b $branch_name https://github.com/HTTPArchive/almanac.httparchive.org.git"
      ]
    },
    {
      "cell_type": "code",
      "execution_count": 12,
      "metadata": {
        "cellView": "form",
        "colab": {
          "base_uri": "https://localhost:8080/"
        },
        "id": "UzhgG5xvbQ1E",
        "outputId": "6ef07cdf-ff19-4ea7-e541-b0bf0abfd126"
      },
      "outputs": [
        {
          "name": "stdout",
          "output_type": "stream",
          "text": [
            "Already on 'privacy-sql-2024'\n",
            "Your branch is up to date with 'origin/privacy-sql-2024'.\n",
            "Already up to date.\n"
          ]
        }
      ],
      "source": [
        "# @title Update local branch (if new commits)\n",
        "!cd almanac.httparchive.org/ && git checkout $branch_name && git pull"
      ]
    },
    {
      "cell_type": "code",
      "execution_count": 13,
      "metadata": {
        "cellView": "form",
        "colab": {
          "base_uri": "https://localhost:8080/"
        },
        "id": "45dBifFPJAtO",
        "outputId": "60cc4e6a-6e8f-41ac-b2bf-b6f9b91b142c"
      },
      "outputs": [
        {
          "name": "stdout",
          "output_type": "stream",
          "text": [
            "Using existing spreadsheet: https://docs.google.com/spreadsheets/d/18r8cT6x9lPdM-rXvXjsqx84W7ZDdTDYGD59xr0UGOwg\n"
          ]
        }
      ],
      "source": [
        "# @title Authenticate\n",
        "import google.auth\n",
        "import os\n",
        "from google.colab import auth\n",
        "from google.cloud import bigquery\n",
        "\n",
        "import gspread\n",
        "from gspread_dataframe import set_with_dataframe\n",
        "\n",
        "os.environ[\"GOOGLE_CLOUD_PROJECT\"] = GCP_PROJECT\n",
        "auth.authenticate_user()\n",
        "credentials, project = google.auth.default()\n",
        "client = bigquery.Client()\n",
        "gc = gspread.authorize(credentials)\n",
        "\n",
        "try:\n",
        "  ss = gc.open_by_url(existing_spreadsheet_url)\n",
        "  print(f'Using existing spreadsheet: {ss.url}')\n",
        "except:\n",
        "  ss = gc.create(spreadsheet_name)\n",
        "  print(f'Created a new spreadsheet: {spreadsheet_name}: {ss.url}')\n",
        "existing_sheets = [s.title for s in ss.worksheets()]"
      ]
    },
    {
      "cell_type": "code",
      "execution_count": 34,
      "metadata": {
        "cellView": "form",
        "colab": {
          "base_uri": "https://localhost:8080/"
        },
        "collapsed": true,
        "id": "nblNil985Tjt",
        "outputId": "fa00e6c7-d651-4170-8bce-c6b8a12ba88c"
      },
      "outputs": [
        {
          "name": "stdout",
          "output_type": "stream",
          "text": [
            "+---------------------------------------------------------------------------+-----------------------+--------------+------------------------------------------------------------------------------------------------------------------------------------+\n",
            "| Query name                                                                |   TB processes/billed | Sheet name   | Skip reason                                                                                                                        |\n",
            "+===========================================================================+=======================+==============+====================================================================================================================================+\n",
            "| number_of_privacy_sandbox_attested_domains.sql                            |                       |              | Query error:                                                                                                                       |\n",
            "|                                                                           |                       |              | 400 POST https://bigquery.googleapis.com/bigquery/v2/projects/httparchive/jobs?prettyPrint=false: Unrecognized name: rws at [23:5] |\n",
            "|                                                                           |                       |              |                                                                                                                                    |\n",
            "|                                                                           |                       |              | Location: None                                                                                                                     |\n",
            "|                                                                           |                       |              | Job ID: ec6bde6c-283b-40b1-bb29-1c6bf00a31fc                                                                                       |\n",
            "+---------------------------------------------------------------------------+-----------------------+--------------+------------------------------------------------------------------------------------------------------------------------------------+\n",
            "| cookies_top_third_party.sql                                               |                63.287 |              | Dry run                                                                                                                            |\n",
            "+---------------------------------------------------------------------------+-----------------------+--------------+------------------------------------------------------------------------------------------------------------------------------------+\n",
            "| ccpa_most_common_phrases.sql                                              |                63.286 |              | Dry run                                                                                                                            |\n",
            "+---------------------------------------------------------------------------+-----------------------+--------------+------------------------------------------------------------------------------------------------------------------------------------+\n",
            "| number_of_websites_with_iab.sql                                           |                63.283 |              | Dry run                                                                                                                            |\n",
            "+---------------------------------------------------------------------------+-----------------------+--------------+------------------------------------------------------------------------------------------------------------------------------------+\n",
            "| most_common_strings_for_iab_usp.sql                                       |                63.285 |              | Dry run                                                                                                                            |\n",
            "+---------------------------------------------------------------------------+-----------------------+--------------+------------------------------------------------------------------------------------------------------------------------------------+\n",
            "| common_ads_variables.sql                                                  |                       |              | Filename mismatch                                                                                                                  |\n",
            "+---------------------------------------------------------------------------+-----------------------+--------------+------------------------------------------------------------------------------------------------------------------------------------+\n",
            "| fingerprinting_most_common_scripts.sql                                    |                63.285 |              | Dry run                                                                                                                            |\n",
            "+---------------------------------------------------------------------------+-----------------------+--------------+------------------------------------------------------------------------------------------------------------------------------------+\n",
            "| top_ara_destinations_registered_by_most_publishers.sql                    |                63.285 |              | Dry run                                                                                                                            |\n",
            "+---------------------------------------------------------------------------+-----------------------+--------------+------------------------------------------------------------------------------------------------------------------------------------+\n",
            "| number_of_websites_with_dnt.sql                                           |                63.285 |              | Dry run                                                                                                                            |\n",
            "+---------------------------------------------------------------------------+-----------------------+--------------+------------------------------------------------------------------------------------------------------------------------------------+\n",
            "| most_common_cmps_for_iab_tcf_v2.sql                                       |                63.283 |              | Dry run                                                                                                                            |\n",
            "+---------------------------------------------------------------------------+-----------------------+--------------+------------------------------------------------------------------------------------------------------------------------------------+\n",
            "| fingerprinting_script_count.sql                                           |                63.285 |              | Dry run                                                                                                                            |\n",
            "+---------------------------------------------------------------------------+-----------------------+--------------+------------------------------------------------------------------------------------------------------------------------------------+\n",
            "| cookies_top_first_party.sql                                               |                63.285 |              | Dry run                                                                                                                            |\n",
            "+---------------------------------------------------------------------------+-----------------------+--------------+------------------------------------------------------------------------------------------------------------------------------------+\n",
            "| number_of_websites_with_bounce_tracking.sql                               |                14.089 |              | Dry run                                                                                                                            |\n",
            "+---------------------------------------------------------------------------+-----------------------+--------------+------------------------------------------------------------------------------------------------------------------------------------+\n",
            "| fingerprinting_most_common_apis.sql                                       |                63.285 |              | Dry run                                                                                                                            |\n",
            "+---------------------------------------------------------------------------+-----------------------+--------------+------------------------------------------------------------------------------------------------------------------------------------+\n",
            "| most_common_cname_domains.sql                                             |                63.285 |              | Dry run                                                                                                                            |\n",
            "+---------------------------------------------------------------------------+-----------------------+--------------+------------------------------------------------------------------------------------------------------------------------------------+\n",
            "| number_of_websites_with_related_origin_trials.sql                         |                63.329 |              | Dry run                                                                                                                            |\n",
            "+---------------------------------------------------------------------------+-----------------------+--------------+------------------------------------------------------------------------------------------------------------------------------------+\n",
            "| number_of_websites_with_referrerpolicy.sql                                |                63.308 |              | Dry run                                                                                                                            |\n",
            "+---------------------------------------------------------------------------+-----------------------+--------------+------------------------------------------------------------------------------------------------------------------------------------+\n",
            "| most_common_referrer_policy.sql                                           |                63.329 |              | Dry run                                                                                                                            |\n",
            "+---------------------------------------------------------------------------+-----------------------+--------------+------------------------------------------------------------------------------------------------------------------------------------+\n",
            "| ads_and_sellers_graph.sql                                                 |                63.285 |              | Dry run                                                                                                                            |\n",
            "+---------------------------------------------------------------------------+-----------------------+--------------+------------------------------------------------------------------------------------------------------------------------------------+\n",
            "| ads_seller_accounts_by_type.sql                                           |                63.283 |              | Dry run                                                                                                                            |\n",
            "+---------------------------------------------------------------------------+-----------------------+--------------+------------------------------------------------------------------------------------------------------------------------------------+\n",
            "| number_of_websites_per_technology_category.sql                            |                 0.017 |              | Dry run                                                                                                                            |\n",
            "+---------------------------------------------------------------------------+-----------------------+--------------+------------------------------------------------------------------------------------------------------------------------------------+\n",
            "| ads_lines_amount.sql                                                      |                63.285 |              | Dry run                                                                                                                            |\n",
            "+---------------------------------------------------------------------------+-----------------------+--------------+------------------------------------------------------------------------------------------------------------------------------------+\n",
            "| privacy-sandbox-adoption-by-third-parties-by-publishers.sql               |                63.285 |              | Dry run                                                                                                                            |\n",
            "+---------------------------------------------------------------------------+-----------------------+--------------+------------------------------------------------------------------------------------------------------------------------------------+\n",
            "| number_of_ara_destinations_registered_by_third_parties_and_publishers.sql |                63.286 |              | Dry run                                                                                                                            |\n",
            "+---------------------------------------------------------------------------+-----------------------+--------------+------------------------------------------------------------------------------------------------------------------------------------+\n",
            "| number_of_websites_with_client_hints.sql                                  |                63.298 |              | Dry run                                                                                                                            |\n",
            "+---------------------------------------------------------------------------+-----------------------+--------------+------------------------------------------------------------------------------------------------------------------------------------+\n",
            "| most_common_countries_for_iab_tcf_v2.sql                                  |                63.283 |              | Dry run                                                                                                                            |\n",
            "+---------------------------------------------------------------------------+-----------------------+--------------+------------------------------------------------------------------------------------------------------------------------------------+\n",
            "| number_of_websites_with_whotracksme_trackers.sql                          |                 0.965 |              | Dry run                                                                                                                            |\n",
            "+---------------------------------------------------------------------------+-----------------------+--------------+------------------------------------------------------------------------------------------------------------------------------------+\n",
            "| top_direct_sellers.sql                                                    |                       |              | Filename mismatch                                                                                                                  |\n",
            "+---------------------------------------------------------------------------+-----------------------+--------------+------------------------------------------------------------------------------------------------------------------------------------+\n",
            "| number_of_websites_per_technology.sql                                     |                 0.026 |              | Dry run                                                                                                                            |\n",
            "+---------------------------------------------------------------------------+-----------------------+--------------+------------------------------------------------------------------------------------------------------------------------------------+\n",
            "| most_common_client_hints.sql                                              |                63.308 |              | Dry run                                                                                                                            |\n",
            "+---------------------------------------------------------------------------+-----------------------+--------------+------------------------------------------------------------------------------------------------------------------------------------+\n",
            "| top_ara_destinations_registered_by_most_third_parties.sql                 |                63.285 |              | Dry run                                                                                                                            |\n",
            "+---------------------------------------------------------------------------+-----------------------+--------------+------------------------------------------------------------------------------------------------------------------------------------+\n",
            "| ccpa_prevalence.sql                                                       |                63.286 |              | Dry run                                                                                                                            |\n",
            "+---------------------------------------------------------------------------+-----------------------+--------------+------------------------------------------------------------------------------------------------------------------------------------+\n",
            "| number_of_websites_with_gpc.sql                                           |                63.308 |              | Dry run                                                                                                                            |\n",
            "+---------------------------------------------------------------------------+-----------------------+--------------+------------------------------------------------------------------------------------------------------------------------------------+\n"
          ]
        }
      ],
      "source": [
        "# @title Upload query results\n",
        "import glob\n",
        "import re\n",
        "from tabulate import tabulate\n",
        "from IPython.display import clear_output\n",
        "\n",
        "\n",
        "filename_include = '^.+sql$' # @param {type: \"raw\", placeholder: \"Enter regexp\"}\n",
        "filename_exclude = '^(common_ads_variables|top_direct_sellers).sql$' # @param {type: \"raw\", placeholder: \"Enter regexp\"}\n",
        "filename_include_regexp = r'{}'.format(filename_include)\n",
        "filename_exclude_regexp = r'{}'.format(filename_exclude)\n",
        "\n",
        "dry_run = True # @param {type: \"boolean\"}\n",
        "overwrite_sheets = False # @param {type: \"boolean\"}\n",
        "max_tb_billed = None # @param {type: \"raw\", placeholder: \"Insert a number or `None` to disable\"}\n",
        "\n",
        "# Print formatted logs\n",
        "queries_processed_log = []\n",
        "def print_logs_table(log=None, append=True):\n",
        "    if log:\n",
        "        queries_processed_log.append(log)\n",
        "    table = tabulate(queries_processed_log, headers=['Query name', 'TB processes/billed', 'Sheet name', 'Skip reason'], tablefmt=\"grid\")\n",
        "    if not append:\n",
        "        del queries_processed_log[-1]\n",
        "    clear_output(wait=True)\n",
        "    print(table)\n",
        "\n",
        "\n",
        "# Find matching SQL queries and save results to Google Sheets.\n",
        "for filepath in glob.iglob(folder):\n",
        "    filename = filepath.split('/')[-1]\n",
        "\n",
        "    print_logs_table([filename, 'Processing...', 'Processing...', 'Processing...'], append=False)\n",
        "\n",
        "    if re.search(filename_include_regexp, filename) and not re.search(filename_exclude_regexp, filename):\n",
        "\n",
        "        with open(filepath) as f:\n",
        "            query = f.read()\n",
        "\n",
        "        try:\n",
        "            response = client.query(\n",
        "                query,\n",
        "                job_config = bigquery.QueryJobConfig(dry_run = True)\n",
        "            )\n",
        "        except Exception as e:\n",
        "            print_logs_table([filename, None, None, f'DryRun Query error:\\n{e}'])\n",
        "            continue\n",
        "\n",
        "        tb_processed = response.total_bytes_processed/1024/1024/1024/1024\n",
        "\n",
        "        if dry_run:\n",
        "            print_logs_table([filename, f'{tb_processed:.3f}', None, 'Dry run'])\n",
        "            continue\n",
        "\n",
        "        if max_tb_billed and max_tb_billed <= tb_processed:\n",
        "            print_logs_table([filename, f'{tb_processed:.3f}', None, 'Data Volume'])\n",
        "            continue\n",
        "\n",
        "        sheet_title = re.sub(r'(\\.sql|[^a-zA-Z0-9]+)', ' ', filename).strip().title()\n",
        "        if sheet_title in existing_sheets:\n",
        "            if not overwrite_sheets:\n",
        "                print_logs_table([filename, f'{tb_processed:.3f}', None, 'Sheet already exists'])\n",
        "                continue\n",
        "\n",
        "            else:\n",
        "                st = ss.worksheet(sheet_title)\n",
        "                ss.del_worksheet(st)\n",
        "\n",
        "        try:\n",
        "            response = client.query(\n",
        "                query,\n",
        "                job_config = bigquery.QueryJobConfig(\n",
        "                    maximum_bytes_billed = max_tb_billed*1024*1024*1024*1024\n",
        "                )\n",
        "            )\n",
        "        except Exception as e:\n",
        "            print_logs_table([filename, None, None, f'Query error:\\n{e}'])\n",
        "            continue\n",
        "\n",
        "        df = response.to_dataframe()\n",
        "        tb_billed = response.total_bytes_billed/1024/1024/1024/1024\n",
        "        rows, cols = df.shape\n",
        "\n",
        "        st = ss.add_worksheet(title = sheet_title, rows = rows, cols = cols)\n",
        "        set_with_dataframe(st, df)\n",
        "        print_logs_table([filename, None, f'{tb_billed:.3f}', sheet_title])\n",
        "\n",
        "    else:\n",
        "        print_logs_table([filename, None, None, 'Filename mismatch'])"
      ]
    }
  ],
  "metadata": {
    "colab": {
      "provenance": []
    },
    "kernelspec": {
      "display_name": "Python 3",
      "name": "python3"
    },
    "language_info": {
      "name": "python"
    }
  },
  "nbformat": 4,
  "nbformat_minor": 0
}
