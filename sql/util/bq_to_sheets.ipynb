{
 "cells": [
  {
   "cell_type": "markdown",
   "metadata": {},
   "source": [
    "<a href=\"https://colab.research.google.com/github/HTTPArchive/almanac.httparchive.org/blob/main/sql/util/bq_to_sheets.ipynb\" target=\"_parent\"><img src=\"https://colab.research.google.com/assets/colab-badge.svg\" alt=\"Open In Colab\"/></a>"
   ]
  },
  {
   "cell_type": "code",
   "execution_count": 1,
   "metadata": {
    "cellView": "form",
    "id": "U37785Bxt5tE"
   },
   "outputs": [],
   "source": [
    "# @title Configure the chapter to process\n",
    "GCP_PROJECT = 'httparchive' #@param {type: \"string\"}\n",
    "almanac_year = 2025 #@param {type: \"integer\"}\n",
    "chapter_name = 'privacy' #@param {type: \"string\"}\n",
    "spreadsheet_url = 'https://docs.google.com/spreadsheets/d/1Svyw40Th7VbigX6lpR1lb1WXwTUVKZWrK7O2YELrml4/edit' #@param {type: \"string\", placeholder:\"Enter spreadsheet URL\"}"
   ]
  },
  {
   "cell_type": "code",
   "execution_count": null,
   "metadata": {
    "cellView": "form",
    "colab": {
     "base_uri": "https://localhost:8080/"
    },
    "id": "OVkCxlRQH6Yt",
    "outputId": "0e907d5e-3824-4b0c-935d-81e629702390"
   },
   "outputs": [],
   "source": [
    "# @title Download repo (skip when running locally)\n",
    "!git clone https://github.com/HTTPArchive/almanac.httparchive.org.git\n",
    "!cd almanac.httparchive.org/"
   ]
  },
  {
   "cell_type": "code",
   "execution_count": 2,
   "metadata": {
    "cellView": "form",
    "colab": {
     "base_uri": "https://localhost:8080/"
    },
    "id": "UzhgG5xvbQ1E",
    "outputId": "9cf3ef02-ec76-43ac-cd63-03edf7f2f619"
   },
   "outputs": [
    {
     "name": "stdout",
     "output_type": "stream",
     "text": [
      "Branch: privacy-sql-2025\n",
      "M\tsql/util/bq_to_sheets.ipynb\n",
      "M\tsrc/requirements.txt\n",
      "Already on 'privacy-sql-2025'\n",
      "Your branch is up to date with 'origin/privacy-sql-2025'.\n",
      "Already up to date.\n"
     ]
    }
   ],
   "source": [
    "# @title Update chapter branch (skip when running locally)\n",
    "branch_name = f'{chapter_name.lower()}-sql-{almanac_year}'\n",
    "print(f\"Branch: {branch_name}\")\n",
    "!git checkout $branch_name && git pull"
   ]
  },
  {
   "cell_type": "code",
   "execution_count": null,
   "metadata": {},
   "outputs": [],
   "source": [
    "# Run to authenticate if in Colab (skip when running locally)\n",
    "from google.colab import auth\n",
    "auth.authenticate_user()"
   ]
  },
  {
   "cell_type": "code",
   "execution_count": 3,
   "metadata": {
    "cellView": "form",
    "id": "45dBifFPJAtO"
   },
   "outputs": [
    {
     "name": "stdout",
     "output_type": "stream",
     "text": [
      "Successfully connected to spreadsheet with 1 existing sheets\n"
     ]
    }
   ],
   "source": [
    "# @title Authenticate\n",
    "import google.auth\n",
    "from google.auth.transport.requests import Request\n",
    "from google.oauth2.credentials import Credentials\n",
    "import os\n",
    "from google.cloud import bigquery\n",
    "\n",
    "import gspread\n",
    "from gspread_dataframe import set_with_dataframe\n",
    "\n",
    "os.environ[\"GOOGLE_CLOUD_PROJECT\"] = GCP_PROJECT\n",
    "\n",
    "# !gcloud auth application-default login --scopes=https://www.googleapis.com/auth/spreadsheets,https://www.googleapis.com/auth/drive,https://www.googleapis.com/auth/bigquery,https://www.googleapis.com/auth/cloud-platform\n",
    "\n",
    "# Define the scopes needed for both BigQuery and Google Sheets\n",
    "SCOPES = [\n",
    "    'https://www.googleapis.com/auth/spreadsheets',\n",
    "    'https://www.googleapis.com/auth/drive',\n",
    "    'https://www.googleapis.com/auth/bigquery'\n",
    "]\n",
    "\n",
    "# Get credentials with proper scopes\n",
    "credentials, project = google.auth.default(scopes=SCOPES)\n",
    "\n",
    "# Refresh credentials if needed\n",
    "if hasattr(credentials, 'refresh') and hasattr(credentials, 'expired') and credentials.expired:\n",
    "    credentials.refresh(Request())\n",
    "\n",
    "client = bigquery.Client(credentials=credentials)\n",
    "gc = gspread.authorize(credentials)\n",
    "\n",
    "ss = gc.open_by_url(spreadsheet_url)\n",
    "existing_sheets = [s.title for s in ss.worksheets()]\n",
    "print(f\"Successfully connected to spreadsheet with {len(existing_sheets)} existing sheets\")"
   ]
  },
  {
   "cell_type": "code",
   "execution_count": 4,
   "metadata": {
    "cellView": "form",
    "colab": {
     "base_uri": "https://localhost:8080/"
    },
    "collapsed": true,
    "id": "nblNil985Tjt",
    "outputId": "658cf8f9-cee5-44d0-a6cd-abcabd4038e2"
   },
   "outputs": [
    {
     "name": "stdout",
     "output_type": "stream",
     "text": [
      "+---------------------------------------------------------------------------+---------------------------+-----------------------------------------------------------------------+-------------------------+\n",
      "| Query name                                                                |   TB processed - estimate | Sheet name                                                            | Upload skipped reason   |\n",
      "+===========================================================================+===========================+=======================================================================+=========================+\n",
      "| cookies_top_first_party_names.sql                                         |                     0     | Cookies Top First Party Names                                         |                         |\n",
      "+---------------------------------------------------------------------------+---------------------------+-----------------------------------------------------------------------+-------------------------+\n",
      "| cookies_top_third_party_domains.sql                                       |                     0     | Cookies Top Third Party Domains                                       |                         |\n",
      "+---------------------------------------------------------------------------+---------------------------+-----------------------------------------------------------------------+-------------------------+\n",
      "| cookies_top_third_party_names.sql                                         |                     0     | Cookies Top Third Party Names                                         |                         |\n",
      "+---------------------------------------------------------------------------+---------------------------+-----------------------------------------------------------------------+-------------------------+\n",
      "| most_common_bounce_domains.sql                                            |                     1.716 | Most Common Bounce Domains                                            |                         |\n",
      "+---------------------------------------------------------------------------+---------------------------+-----------------------------------------------------------------------+-------------------------+\n",
      "| most_common_client_hints.sql                                              |                     1.337 | Most Common Client Hints                                              |                         |\n",
      "+---------------------------------------------------------------------------+---------------------------+-----------------------------------------------------------------------+-------------------------+\n",
      "| most_common_cmps_for_iab_tcf_v2.sql                                       |                     0.011 | Most Common Cmps For Iab Tcf V2                                       |                         |\n",
      "+---------------------------------------------------------------------------+---------------------------+-----------------------------------------------------------------------+-------------------------+\n",
      "| most_common_cname_domains.sql                                             |                     0.021 | Most Common Cname Domains                                             |                         |\n",
      "+---------------------------------------------------------------------------+---------------------------+-----------------------------------------------------------------------+-------------------------+\n",
      "| most_common_countries_for_iab_tcf_v2.sql                                  |                     0.02  | Most Common Countries For Iab Tcf V2                                  |                         |\n",
      "+---------------------------------------------------------------------------+---------------------------+-----------------------------------------------------------------------+-------------------------+\n",
      "| most_common_referrer_policy.sql                                           |                     1.012 | Most Common Referrer Policy                                           |                         |\n",
      "+---------------------------------------------------------------------------+---------------------------+-----------------------------------------------------------------------+-------------------------+\n",
      "| most_common_strings_for_iab_usp.sql                                       |                     0.011 | Most Common Strings For Iab Usp                                       |                         |\n",
      "+---------------------------------------------------------------------------+---------------------------+-----------------------------------------------------------------------+-------------------------+\n",
      "| most_common_tracker_categories.sql                                        |                     0.973 | Most Common Tracker Categories                                        |                         |\n",
      "+---------------------------------------------------------------------------+---------------------------+-----------------------------------------------------------------------+-------------------------+\n",
      "| number_of_ara_destinations_registered_by_third_parties_and_publishers.sql |                     0.855 | Number Of Ara Destinations Registered By Third Parties And Publishers |                         |\n",
      "+---------------------------------------------------------------------------+---------------------------+-----------------------------------------------------------------------+-------------------------+\n",
      "| number_of_privacy_sandbox_attested_domains.sql                            |                     0.854 | Number Of Privacy Sandbox Attested Domains                            |                         |\n",
      "+---------------------------------------------------------------------------+---------------------------+-----------------------------------------------------------------------+-------------------------+\n",
      "| number_of_websites_per_technology.sql                                     |                     0.013 | Number Of Websites Per Technology                                     |                         |\n",
      "+---------------------------------------------------------------------------+---------------------------+-----------------------------------------------------------------------+-------------------------+\n",
      "| number_of_websites_per_technology_category.sql                            |                     0.008 | Number Of Websites Per Technology Category                            |                         |\n",
      "+---------------------------------------------------------------------------+---------------------------+-----------------------------------------------------------------------+-------------------------+\n",
      "| number_of_websites_using_each_fingerprinting.sql                          |                     0.025 | Number Of Websites Using Each Fingerprinting                          |                         |\n",
      "+---------------------------------------------------------------------------+---------------------------+-----------------------------------------------------------------------+-------------------------+\n",
      "| number_of_websites_with_client_hints.sql                                  |                     1.863 | Number Of Websites With Client Hints                                  |                         |\n",
      "+---------------------------------------------------------------------------+---------------------------+-----------------------------------------------------------------------+-------------------------+\n",
      "| number_of_websites_with_dnt.sql                                           |                     0.011 | Number Of Websites With Dnt                                           |                         |\n",
      "+---------------------------------------------------------------------------+---------------------------+-----------------------------------------------------------------------+-------------------------+\n",
      "| number_of_websites_with_gpc.sql                                           |                     1.346 | Number Of Websites With Gpc                                           |                         |\n",
      "+---------------------------------------------------------------------------+---------------------------+-----------------------------------------------------------------------+-------------------------+\n",
      "| number_of_websites_with_iab.sql                                           |                     0.01  | Number Of Websites With Iab                                           |                         |\n",
      "+---------------------------------------------------------------------------+---------------------------+-----------------------------------------------------------------------+-------------------------+\n",
      "| number_of_websites_with_nb_trackers.sql                                   |                     0.973 | Number Of Websites With Nb Trackers                                   |                         |\n",
      "+---------------------------------------------------------------------------+---------------------------+-----------------------------------------------------------------------+-------------------------+\n",
      "| number_of_websites_with_referrerpolicy.sql                                |                     0.493 | Number Of Websites With Referrerpolicy                                |                         |\n",
      "+---------------------------------------------------------------------------+---------------------------+-----------------------------------------------------------------------+-------------------------+\n",
      "| number_of_websites_with_related_origin_trials.sql                         |                     2.193 | Number Of Websites With Related Origin Trials                         |                         |\n",
      "+---------------------------------------------------------------------------+---------------------------+-----------------------------------------------------------------------+-------------------------+\n",
      "| number_of_websites_with_whotracksme_trackers.sql                          |                     0.494 | Number Of Websites With Whotracksme Trackers                          |                         |\n",
      "+---------------------------------------------------------------------------+---------------------------+-----------------------------------------------------------------------+-------------------------+\n",
      "| privacy-sandbox-adoption-by-third-parties-by-publishers.sql               |                     0.855 | Privacy Sandbox Adoption By Third Parties By Publishers               |                         |\n",
      "+---------------------------------------------------------------------------+---------------------------+-----------------------------------------------------------------------+-------------------------+\n",
      "| top_ara_destinations_registered_by_most_publishers.sql                    |                     0.855 | Top Ara Destinations Registered By Most Publishers                    |                         |\n",
      "+---------------------------------------------------------------------------+---------------------------+-----------------------------------------------------------------------+-------------------------+\n",
      "| top_ara_destinations_registered_by_most_third_parties.sql                 |                     0.855 | Top Ara Destinations Registered By Most Third Parties                 |                         |\n",
      "+---------------------------------------------------------------------------+---------------------------+-----------------------------------------------------------------------+-------------------------+\n"
     ]
    }
   ],
   "source": [
    "# @title Upload query results\n",
    "import glob\n",
    "import re\n",
    "from tabulate import tabulate\n",
    "from IPython.display import clear_output\n",
    "import os\n",
    "\n",
    "filename_match = '\\\\.sql$' # @param {type: \"raw\", placeholder: \"Enter regexp wrapped in quotes\"}\n",
    "filename_match_exclude = '' # @param {type: \"raw\", placeholder: \"Enter regexp wrapped in quotes\"}\n",
    "dry_run = False # @param {type: \"boolean\"}\n",
    "overwrite_sheets = False # @param {type: \"boolean\"}\n",
    "maximum_tb_billed = 7 # @param {type: \"raw\", placeholder: \"Insert a number or empty to disable\"}\n",
    "\n",
    "# Handle empty filename_match and filename_match_exclude\n",
    "filename_include_regexp = r'.*' if not filename_match or filename_match == '*' else r'{}'.format(filename_match)\n",
    "filename_exclude_regexp = r'^$' if not filename_match_exclude else r'{}'.format(filename_match_exclude)\n",
    "\n",
    "folder = os.path.join(os.getcwd(), '../', str(almanac_year), chapter_name.lower(), '*.sql')\n",
    "\n",
    "print(f\"Looking for SQL files in: {folder}\")\n",
    "\n",
    "# Print formatted logs\n",
    "queries_processed_log = []\n",
    "def print_logs_table(log=None, append=True):\n",
    "    if log:\n",
    "        queries_processed_log.append(log)\n",
    "    table = tabulate(queries_processed_log, headers=['Query name', 'TB processed - estimate', 'Sheet name', 'Upload skipped reason'], tablefmt=\"grid\")\n",
    "    if not append:\n",
    "        del queries_processed_log[-1]\n",
    "    clear_output(wait=True)\n",
    "    print(table)\n",
    "\n",
    "# Find matching SQL queries and save results to Google Sheets.\n",
    "sql_files = list(glob.iglob(folder))\n",
    "print(f\"Found {len(sql_files)} SQL files\")\n",
    "\n",
    "if not sql_files:\n",
    "    print(\"No SQL files found. Check the folder path.\")\n",
    "else:\n",
    "    for filepath in sorted(sql_files):\n",
    "        filename = os.path.basename(filepath)\n",
    "\n",
    "        print_logs_table([filename, 'Processing...', 'Processing...', 'Processing...'], append=False)\n",
    "\n",
    "        if re.search(filename_include_regexp, filename) and not re.search(filename_exclude_regexp, filename):\n",
    "\n",
    "            with open(filepath) as f:\n",
    "                query = f.read()\n",
    "\n",
    "            try:\n",
    "                response = client.query(\n",
    "                    query,\n",
    "                    job_config = bigquery.QueryJobConfig(dry_run = True)\n",
    "                )\n",
    "            except Exception as e:\n",
    "                print_logs_table([filename, None, None, f'Dry run query error:\\n{e}'])\n",
    "                continue\n",
    "\n",
    "            tb_processed = response.total_bytes_processed/1024/1024/1024/1024\n",
    "            sheet_title = re.sub(r'(\\.sql|[^a-zA-Z0-9]+)', ' ', filename).strip().title()\n",
    "\n",
    "            if sheet_title in existing_sheets:\n",
    "                if overwrite_sheets:\n",
    "                    st = ss.worksheet(sheet_title)\n",
    "                else:\n",
    "                    print_logs_table([filename, f'{tb_processed:.3f}', sheet_title, 'Sheet already exists'])\n",
    "                    continue\n",
    "\n",
    "            if dry_run:\n",
    "                print_logs_table([filename, f'{tb_processed:.3f}', sheet_title, 'Dry run'])\n",
    "                continue\n",
    "\n",
    "            # Skip actual execution if no spreadsheet connection\n",
    "            if ss is None:\n",
    "                print_logs_table([filename, f'{tb_processed:.3f}', sheet_title, 'No spreadsheet connection'])\n",
    "                continue\n",
    "\n",
    "            try:\n",
    "                if maximum_tb_billed:\n",
    "                    response = client.query(\n",
    "                        query,\n",
    "                        job_config = bigquery.QueryJobConfig(\n",
    "                            maximum_bytes_billed = maximum_tb_billed*1024*1024*1024*1024\n",
    "                        )\n",
    "                    )\n",
    "                else:\n",
    "                    response = client.query(query)\n",
    "\n",
    "                df = response.to_dataframe()\n",
    "                if ('st' not in locals() or st.title != sheet_title):\n",
    "                    st = ss.add_worksheet(sheet_title, rows = 1, cols = 1)\n",
    "                set_with_dataframe(st, df, resize=False)\n",
    "\n",
    "                tb_billed = response.total_bytes_billed/1024/1024/1024/1024\n",
    "                print_logs_table([filename, f'{tb_billed:.3f}', sheet_title, None])\n",
    "\n",
    "            except Exception as e:\n",
    "                print_logs_table([filename, f'{tb_processed:.3f}', None, f'Query error:\\n{e}'])\n",
    "                continue\n",
    "\n",
    "        else:\n",
    "            print_logs_table([filename, None, None, 'Filename mismatch'])"
   ]
  }
 ],
 "metadata": {
  "colab": {
   "provenance": []
  },
  "kernelspec": {
   "display_name": ".venv (3.12.7)",
   "language": "python",
   "name": "python3"
  },
  "language_info": {
   "codemirror_mode": {
    "name": "ipython",
    "version": 3
   },
   "file_extension": ".py",
   "mimetype": "text/x-python",
   "name": "python",
   "nbconvert_exporter": "python",
   "pygments_lexer": "ipython3",
   "version": "3.12.7"
  }
 },
 "nbformat": 4,
 "nbformat_minor": 0
}
