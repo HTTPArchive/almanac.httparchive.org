{
  "cells": [
    {
      "cell_type": "markdown",
      "metadata": {},
      "source": [
        "<a href=\"https://colab.research.google.com/github/HTTPArchive/almanac.httparchive.org/blob/fellow-vicuna/sql/util/bq_to_sheets.ipynb\" target=\"_parent\"><img src=\"https://colab.research.google.com/assets/colab-badge.svg\" alt=\"Open In Colab\"/></a>"
      ]
    },
    {
      "cell_type": "code",
      "execution_count": 8,
      "metadata": {
        "cellView": "form",
        "id": "U37785Bxt5tE"
      },
      "outputs": [],
      "source": [
        "# @title Configure the chapter\n",
        "year = 2024 #@param {type: \"integer\"}\n",
        "chapter = \"privacy\" #@param {type: \"string\"}\n",
        "\n",
        "# BigQuery\n",
        "GCP_PROJECT = \"httparchive\" #@param {type: \"string\"}\n",
        "\n",
        "# Git\n",
        "branch_name = f\"{chapter.lower()}-sql-{year}\"\n",
        "\n",
        "# SQL folder\n",
        "folder = r'almanac.httparchive.org/sql/{year}/{chapter}/*.sql'.format(\n",
        "    year=year,\n",
        "    chapter=chapter.lower()\n",
        ")\n",
        "\n",
        "# Google Sheets\n",
        "spreadsheet_name = f\"{chapter.capitalize()} (Web Almanac {year})\"\n",
        "\n",
        "# Set to `None` to create new one or an existing spreadsheet URL.\n",
        "existing_spreadsheet_url = 'https://docs.google.com/spreadsheets/d/18r8cT6x9lPdM-rXvXjsqx84W7ZDdTDYGD59xr0UGOwg/edit' #@param {type: \"string\"}"
      ]
    },
    {
      "cell_type": "code",
      "execution_count": 3,
      "metadata": {
        "cellView": "form",
        "colab": {
          "base_uri": "https://localhost:8080/"
        },
        "id": "OVkCxlRQH6Yt",
        "outputId": "e0262f6b-6eed-437f-8b47-49cf9eb43273"
      },
      "outputs": [
        {
          "name": "stdout",
          "output_type": "stream",
          "text": [
            "Cloning into 'almanac.httparchive.org'...\n",
            "remote: Enumerating objects: 46317, done.\u001b[K\n",
            "remote: Counting objects: 100% (677/677), done.\u001b[K\n",
            "remote: Compressing objects: 100% (317/317), done.\u001b[K\n",
            "remote: Total 46317 (delta 438), reused 580 (delta 359), pack-reused 45640 (from 1)\u001b[K\n",
            "Receiving objects: 100% (46317/46317), 384.99 MiB | 32.06 MiB/s, done.\n",
            "Resolving deltas: 100% (31471/31471), done.\n",
            "Updating files: 100% (5586/5586), done.\n"
          ]
        }
      ],
      "source": [
        "# @title Download repo\n",
        "!git clone -b $branch_name https://github.com/HTTPArchive/almanac.httparchive.org.git"
      ]
    },
    {
      "cell_type": "code",
      "execution_count": 9,
      "metadata": {
        "cellView": "form",
        "colab": {
          "base_uri": "https://localhost:8080/"
        },
        "id": "UzhgG5xvbQ1E",
        "outputId": "8bf126c7-25a0-4f38-de04-183c75fae548"
      },
      "outputs": [
        {
          "name": "stdout",
          "output_type": "stream",
          "text": [
            "Already on 'privacy-sql-2024'\n",
            "Your branch is up to date with 'origin/privacy-sql-2024'.\n",
            "Already up to date.\n"
          ]
        }
      ],
      "source": [
        "# @title Update local branch (if new commits)\n",
        "!cd almanac.httparchive.org/ && git checkout $branch_name && git pull"
      ]
    },
    {
      "cell_type": "code",
      "execution_count": 22,
      "metadata": {
        "cellView": "form",
        "colab": {
          "base_uri": "https://localhost:8080/"
        },
        "id": "45dBifFPJAtO",
        "outputId": "98a0f557-778d-4d94-e0ba-ad0f1e9f12a6"
      },
      "outputs": [
        {
          "name": "stdout",
          "output_type": "stream",
          "text": [
            "Using existing spreadsheet: https://docs.google.com/spreadsheets/d/18r8cT6x9lPdM-rXvXjsqx84W7ZDdTDYGD59xr0UGOwg\n"
          ]
        }
      ],
      "source": [
        "# @title Authenticate\n",
        "import google.auth\n",
        "import os\n",
        "from google.colab import auth\n",
        "from google.cloud import bigquery\n",
        "\n",
        "import gspread\n",
        "from gspread_dataframe import set_with_dataframe\n",
        "\n",
        "os.environ[\"GOOGLE_CLOUD_PROJECT\"] = GCP_PROJECT\n",
        "auth.authenticate_user()\n",
        "credentials, project = google.auth.default()\n",
        "client = bigquery.Client()\n",
        "gc = gspread.authorize(credentials)\n",
        "\n",
        "try:\n",
        "  ss = gc.open_by_url(existing_spreadsheet_url)\n",
        "  print(f'Using existing spreadsheet: {ss.url}')\n",
        "except:\n",
        "  ss = gc.create(spreadsheet_name)\n",
        "  print(f'Created a new spreadsheet: {spreadsheet_name}: {ss.url}')\n",
        "existing_sheets = [s.title for s in ss.worksheets()]"
      ]
    },
    {
      "cell_type": "code",
      "execution_count": 24,
      "metadata": {
        "cellView": "form",
        "colab": {
          "base_uri": "https://localhost:8080/"
        },
        "collapsed": true,
        "id": "nblNil985Tjt",
        "outputId": "6adb3bf7-78ec-437a-fdcb-e29b88a5f99c"
      },
      "outputs": [
        {
          "name": "stdout",
          "output_type": "stream",
          "text": [
            "+---------------------------------------------------------------------------+---------------+-------------------+--------------+\n",
            "| Query name                                                                | Skip reason   |   Total Tb billed | Sheet name   |\n",
            "+===========================================================================+===============+===================+==============+\n",
            "| privacy-sandbox-adoption-by-third-party-on-top-1M.sql                     | Dry run       |            63.286 |              |\n",
            "+---------------------------------------------------------------------------+---------------+-------------------+--------------+\n",
            "| ara-trigger-registrations-for-different-destinations-by-destinations.sql  | Dry run       |            63.284 |              |\n",
            "+---------------------------------------------------------------------------+---------------+-------------------+--------------+\n",
            "| most_common_countries_for_iab_tcf_v2.sql                                  | Dry run       |            63.283 |              |\n",
            "+---------------------------------------------------------------------------+---------------+-------------------+--------------+\n",
            "| number_of_websites_per_tracking_technology.sql                            | Regex match   |                   |              |\n",
            "+---------------------------------------------------------------------------+---------------+-------------------+--------------+\n",
            "| fingerprinting_most_common_scripts.sql                                    | Dry run       |            63.285 |              |\n",
            "+---------------------------------------------------------------------------+---------------+-------------------+--------------+\n",
            "| number_of_websites_with_iab.sql                                           | Dry run       |            63.283 |              |\n",
            "+---------------------------------------------------------------------------+---------------+-------------------+--------------+\n",
            "| number_of_websites_with_referrerpolicy.sql                                | Dry run       |            63.308 |              |\n",
            "+---------------------------------------------------------------------------+---------------+-------------------+--------------+\n",
            "| most_common_strings_for_iab_usp.sql                                       | Dry run       |            63.285 |              |\n",
            "+---------------------------------------------------------------------------+---------------+-------------------+--------------+\n",
            "| number_of_websites_with_dnt.sql                                           | Dry run       |            63.285 |              |\n",
            "+---------------------------------------------------------------------------+---------------+-------------------+--------------+\n",
            "| privacy-sandbox-adoption-by-top-1M-publishers.sql                         | Dry run       |            63.286 |              |\n",
            "+---------------------------------------------------------------------------+---------------+-------------------+--------------+\n",
            "| cookies_top_first_party.sql                                               | Dry run       |            63.285 |              |\n",
            "+---------------------------------------------------------------------------+---------------+-------------------+--------------+\n",
            "| ccpa_prevalence.sql                                                       | Dry run       |            63.286 |              |\n",
            "+---------------------------------------------------------------------------+---------------+-------------------+--------------+\n",
            "| ads_seller_accounts_by_type.sql                                           | Dry run       |            63.283 |              |\n",
            "+---------------------------------------------------------------------------+---------------+-------------------+--------------+\n",
            "| number_of_websites_with_whotracksme_trackers.sql                          | Dry run       |             0.965 |              |\n",
            "+---------------------------------------------------------------------------+---------------+-------------------+--------------+\n",
            "| number_of_websites_with_privacy_service.sql                               | Dry run       |             0.017 |              |\n",
            "+---------------------------------------------------------------------------+---------------+-------------------+--------------+\n",
            "| most_common_cname_domains.sql                                             | Dry run       |            63.285 |              |\n",
            "+---------------------------------------------------------------------------+---------------+-------------------+--------------+\n",
            "| number_of_websites_with_bounce_tracking.sql                               | Dry run       |            14.089 |              |\n",
            "+---------------------------------------------------------------------------+---------------+-------------------+--------------+\n",
            "| number_of_websites_with_client_hints.sql                                  | Dry run       |            63.298 |              |\n",
            "+---------------------------------------------------------------------------+---------------+-------------------+--------------+\n",
            "| most_common_referrer_policy.sql                                           | Dry run       |            63.329 |              |\n",
            "+---------------------------------------------------------------------------+---------------+-------------------+--------------+\n",
            "| top_direct_sellers.sql                                                    | Dry run       |            63.285 |              |\n",
            "+---------------------------------------------------------------------------+---------------+-------------------+--------------+\n",
            "| cookies_top_third_party.sql                                               | Dry run       |            63.287 |              |\n",
            "+---------------------------------------------------------------------------+---------------+-------------------+--------------+\n",
            "| most_common_client_hints.sql                                              | Dry run       |            63.308 |              |\n",
            "+---------------------------------------------------------------------------+---------------+-------------------+--------------+\n",
            "| ads_lines_amount.sql                                                      | Dry run       |            63.285 |              |\n",
            "+---------------------------------------------------------------------------+---------------+-------------------+--------------+\n",
            "| common_ads_variables.sql                                                  | Dry run       |            63.285 |              |\n",
            "+---------------------------------------------------------------------------+---------------+-------------------+--------------+\n",
            "| fingerprinting_most_common_apis.sql                                       | Dry run       |            63.285 |              |\n",
            "+---------------------------------------------------------------------------+---------------+-------------------+--------------+\n",
            "| attested-domains-in-top-1M-using-privacy-sandbox.sql                      | Dry run       |            63.286 |              |\n",
            "+---------------------------------------------------------------------------+---------------+-------------------+--------------+\n",
            "| ara-trigger-registrations-for-different-destinations-by-third-parties.sql | Dry run       |            63.284 |              |\n",
            "+---------------------------------------------------------------------------+---------------+-------------------+--------------+\n",
            "| number_of_websites_with_gpc.sql                                           | Dry run       |            63.308 |              |\n",
            "+---------------------------------------------------------------------------+---------------+-------------------+--------------+\n",
            "| number_of_websites_with_related_origin_trials.sql                         | Dry run       |            63.329 |              |\n",
            "+---------------------------------------------------------------------------+---------------+-------------------+--------------+\n",
            "| most_common_cmps_for_iab_tcf_v2.sql                                       | Dry run       |            63.283 |              |\n",
            "+---------------------------------------------------------------------------+---------------+-------------------+--------------+\n",
            "| ccpa_most_common_phrases.sql                                              | Dry run       |            63.286 |              |\n",
            "+---------------------------------------------------------------------------+---------------+-------------------+--------------+\n",
            "| fingerprinting_script_count.sql                                           | Dry run       |            63.285 |              |\n",
            "+---------------------------------------------------------------------------+---------------+-------------------+--------------+\n",
            "| ads_and_sellers_graph.sql                                                 | Dry run       |            63.285 |              |\n",
            "+---------------------------------------------------------------------------+---------------+-------------------+--------------+\n"
          ]
        }
      ],
      "source": [
        "# @title Upload query results\n",
        "import glob\n",
        "import re\n",
        "from tabulate import tabulate\n",
        "from IPython.display import clear_output\n",
        "\n",
        "\n",
        "include_regexp = '.sql$' # @param {type: \"string\"}\n",
        "file_match_include = r'{}'.format(include_regexp)\n",
        "exclude_regexp = \"^(number_of_websites_per_technology).sql$\" # @param {type: \"string\"}\n",
        "file_match_exclude = r'{}'.format(exclude_regexp)\n",
        "\n",
        "overwrite = True # @param {type: \"boolean\"}\n",
        "dry_run = True # @param {type: \"boolean\"}\n",
        "tb_processed_limit = 1 # @param {type: \"number\"}\n",
        "\n",
        "# Print formatted logs\n",
        "queries_processed_log = []\n",
        "def print_logs_table():\n",
        "    table = tabulate(queries_processed_log, headers=['Query name', 'Skip reason', 'Total Tb billed', 'Sheet name'], tablefmt=\"grid\")\n",
        "    clear_output(wait=True)\n",
        "    print(table)\n",
        "\n",
        "# Find matching SQL queries and save results to Google Sheets.\n",
        "print('Query Name\\tSkip reason\\tTotal Tb billed\\tAdded Sheet Name')\n",
        "for filepath in glob.iglob(folder):\n",
        "    filename = filepath.split('/')[-1]\n",
        "    sheet_title = re.sub(r'(\\.sql|[^a-zA-Z0-9]+)', ' ', filename).strip().title()\n",
        "\n",
        "    if re.search(file_match_include, filename) \\\n",
        "    and not re.search(file_match_exclude, filename):\n",
        "\n",
        "        queries_processed_log.append([filename, 'Processing...', 'Processing...', 'Processing...'])\n",
        "        print_logs_table()\n",
        "        del queries_processed_log[-1]\n",
        "\n",
        "        with open(filepath) as f:\n",
        "            query = f.read()\n",
        "\n",
        "        response = client.query(\n",
        "            query,\n",
        "            job_config = bigquery.QueryJobConfig(dry_run = True)\n",
        "        )\n",
        "\n",
        "        tb_processed = response.total_bytes_processed/1024/1024/1024/1024\n",
        "\n",
        "        if dry_run:\n",
        "            queries_processed_log.append([filename, 'Dry run', f'{tb_processed:.3f}', None])\n",
        "            continue\n",
        "\n",
        "        if tb_processed > tb_processed_limit:\n",
        "            queries_processed_log.append([filename, 'Data Volume', f'{tb_processed:.3f}', None])\n",
        "            continue\n",
        "\n",
        "        if sheet_title in existing_sheets:\n",
        "            if not overwrite:\n",
        "                queries_processed_log.append([filename, 'No ovrwrite', f'{tb_processed:.3f}', None])\n",
        "                continue\n",
        "\n",
        "            else:\n",
        "                st = ss.worksheet(sheet_title)\n",
        "                ss.del_worksheet(st)\n",
        "\n",
        "        df = client.query(query).to_dataframe()\n",
        "        rows, cols = df.shape\n",
        "\n",
        "        st = ss.add_worksheet(title = sheet_title, rows = rows, cols = cols)\n",
        "        set_with_dataframe(st, df)\n",
        "        queries_processed_log.append([filename, None, f'{tb_processed:.3f}', sheet_title])\n",
        "\n",
        "    else:\n",
        "        queries_processed_log.append([filename, 'Regex match', None, None])\n",
        "\n",
        "    print_logs_table()\n",
        "\n",
        "print_logs_table()"
      ]
    }
  ],
  "metadata": {
    "colab": {
      "provenance": []
    },
    "kernelspec": {
      "display_name": "Python 3",
      "name": "python3"
    },
    "language_info": {
      "name": "python"
    }
  },
  "nbformat": 4,
  "nbformat_minor": 0
}
