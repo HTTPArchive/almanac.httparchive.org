{
 "cells": [
  {
   "cell_type": "markdown",
   "metadata": {},
   "source": [
    "<a href=\"https://colab.research.google.com/github/HTTPArchive/almanac.httparchive.org/blob/main/sql/util/bq_to_sheets.ipynb\" target=\"_parent\"><img src=\"https://colab.research.google.com/assets/colab-badge.svg\" alt=\"Open In Colab\"/></a>"
   ]
  },
  {
   "cell_type": "code",
   "execution_count": 5,
   "metadata": {
    "cellView": "form",
    "id": "U37785Bxt5tE"
   },
   "outputs": [],
   "source": [
    "# @title Configuration\n",
    "GCP_PROJECT = 'httparchive' #@param {type: \"string\"}\n",
    "almanac_year = 2025 #@param {type: \"integer\"}\n",
    "chapter_name = 'privacy' #@param {type: \"string\"}\n",
    "spreadsheet_url = 'https://docs.google.com/spreadsheets/d/1Svyw40Th7VbigX6lpR1lb1WXwTUVKZWrK7O2YELrml4/edit' #@param {type: \"string\", placeholder:\"Enter spreadsheet URL\"}"
   ]
  },
  {
   "cell_type": "code",
   "execution_count": null,
   "metadata": {
    "cellView": "form",
    "colab": {
     "base_uri": "https://localhost:8080/"
    },
    "id": "OVkCxlRQH6Yt",
    "outputId": "0e907d5e-3824-4b0c-935d-81e629702390"
   },
   "outputs": [],
   "source": [
    "# @title Download repo (Colab only - skip when running locally)\n",
    "!git clone https://github.com/HTTPArchive/almanac.httparchive.org.git\n",
    "!cd almanac.httparchive.org/"
   ]
  },
  {
   "cell_type": "code",
   "execution_count": 2,
   "metadata": {
    "cellView": "form",
    "colab": {
     "base_uri": "https://localhost:8080/"
    },
    "id": "UzhgG5xvbQ1E",
    "outputId": "9cf3ef02-ec76-43ac-cd63-03edf7f2f619"
   },
   "outputs": [
    {
     "name": "stdout",
     "output_type": "stream",
     "text": [
      "Branch: privacy-sql-2025\n",
      "M\tsql/util/bq_to_sheets.ipynb\n",
      "M\tsrc/requirements.txt\n",
      "Already on 'privacy-sql-2025'\n",
      "Your branch is up to date with 'origin/privacy-sql-2025'.\n",
      "Already up to date.\n"
     ]
    }
   ],
   "source": [
    "# @title Update chapter branch (Colab only - skip when running locally)\n",
    "branch_name = f'{chapter_name.lower()}-sql-{almanac_year}'\n",
    "print(f\"Switching to branch: {branch_name}\")\n",
    "!git checkout $branch_name && git pull"
   ]
  },
  {
   "cell_type": "code",
   "execution_count": null,
   "metadata": {},
   "outputs": [],
   "source": [
    "# @title Authenticate (Colab only - skip when running locally)\n",
    "from google.colab import auth\n",
    "auth.authenticate_user()"
   ]
  },
  {
   "cell_type": "code",
   "execution_count": 12,
   "metadata": {
    "cellView": "form",
    "id": "45dBifFPJAtO"
   },
   "outputs": [
    {
     "name": "stdout",
     "output_type": "stream",
     "text": [
      "✓ Connected to spreadsheet with 28 existing sheets\n"
     ]
    }
   ],
   "source": [
    "# @title Setup BigQuery and Google Sheets clients\n",
    "import google.auth\n",
    "import os\n",
    "from google.cloud import bigquery\n",
    "import gspread\n",
    "from gspread_dataframe import set_with_dataframe\n",
    "\n",
    "os.environ[\"GOOGLE_CLOUD_PROJECT\"] = GCP_PROJECT\n",
    "\n",
    "# Authenticate with required scopes for BigQuery and Google Sheets\n",
    "SCOPES = [\n",
    "    'https://www.googleapis.com/auth/spreadsheets',\n",
    "    'https://www.googleapis.com/auth/drive',\n",
    "    'https://www.googleapis.com/auth/bigquery'\n",
    "]\n",
    "\n",
    "credentials, project = google.auth.default(scopes=SCOPES)\n",
    "client = bigquery.Client(credentials=credentials)\n",
    "gc = gspread.authorize(credentials)\n",
    "\n",
    "# Connect to spreadsheet\n",
    "ss = gc.open_by_url(spreadsheet_url)\n",
    "existing_sheets = [s.title for s in ss.worksheets()]\n",
    "print(f\"✓ Connected to spreadsheet with {len(existing_sheets)} existing sheets\")"
   ]
  },
  {
   "cell_type": "code",
   "execution_count": 38,
   "metadata": {
    "cellView": "form",
    "colab": {
     "base_uri": "https://localhost:8080/"
    },
    "collapsed": true,
    "id": "nblNil985Tjt",
    "outputId": "658cf8f9-cee5-44d0-a6cd-abcabd4038e2"
   },
   "outputs": [
    {
     "name": "stdout",
     "output_type": "stream",
     "text": [
      "+---------------------------------------------------------------------------+-------------+---------------------------------+--------------------------+\n",
      "| Query                                                                     |   TB Billed | Sheet                           | Status/Skip Reason       |\n",
      "+===========================================================================+=============+=================================+==========================+\n",
      "| cookies_top_first_party_names.sql                                         |             |                                 | Filename filter mismatch |\n",
      "+---------------------------------------------------------------------------+-------------+---------------------------------+--------------------------+\n",
      "| cookies_top_third_party_domains.sql                                       |             |                                 | Filename filter mismatch |\n",
      "+---------------------------------------------------------------------------+-------------+---------------------------------+--------------------------+\n",
      "| cookies_top_third_party_names.sql                                         |             |                                 | Filename filter mismatch |\n",
      "+---------------------------------------------------------------------------+-------------+---------------------------------+--------------------------+\n",
      "| most_common_bounce_domains.sql                                            |             |                                 | Filename filter mismatch |\n",
      "+---------------------------------------------------------------------------+-------------+---------------------------------+--------------------------+\n",
      "| most_common_client_hints.sql                                              |             |                                 | Filename filter mismatch |\n",
      "+---------------------------------------------------------------------------+-------------+---------------------------------+--------------------------+\n",
      "| most_common_cmps_for_iab_tcf_v2.sql                                       |           0 | Most Common Cmps For Iab Tcf V2 | ✓ Uploaded               |\n",
      "+---------------------------------------------------------------------------+-------------+---------------------------------+--------------------------+\n",
      "| most_common_cname_domains.sql                                             |             |                                 | Filename filter mismatch |\n",
      "+---------------------------------------------------------------------------+-------------+---------------------------------+--------------------------+\n",
      "| most_common_countries_for_iab_tcf_v2.sql                                  |             |                                 | Filename filter mismatch |\n",
      "+---------------------------------------------------------------------------+-------------+---------------------------------+--------------------------+\n",
      "| most_common_referrer_policy.sql                                           |             |                                 | Filename filter mismatch |\n",
      "+---------------------------------------------------------------------------+-------------+---------------------------------+--------------------------+\n",
      "| most_common_strings_for_iab_usp.sql                                       |             |                                 | Filename filter mismatch |\n",
      "+---------------------------------------------------------------------------+-------------+---------------------------------+--------------------------+\n",
      "| most_common_tracker_categories.sql                                        |             |                                 | Filename filter mismatch |\n",
      "+---------------------------------------------------------------------------+-------------+---------------------------------+--------------------------+\n",
      "| number_of_ara_destinations_registered_by_third_parties_and_publishers.sql |             |                                 | Filename filter mismatch |\n",
      "+---------------------------------------------------------------------------+-------------+---------------------------------+--------------------------+\n",
      "| number_of_privacy_sandbox_attested_domains.sql                            |             |                                 | Filename filter mismatch |\n",
      "+---------------------------------------------------------------------------+-------------+---------------------------------+--------------------------+\n",
      "| number_of_websites_per_technology.sql                                     |             |                                 | Filename filter mismatch |\n",
      "+---------------------------------------------------------------------------+-------------+---------------------------------+--------------------------+\n",
      "| number_of_websites_per_technology_category.sql                            |             |                                 | Filename filter mismatch |\n",
      "+---------------------------------------------------------------------------+-------------+---------------------------------+--------------------------+\n",
      "| number_of_websites_using_each_fingerprinting.sql                          |             |                                 | Filename filter mismatch |\n",
      "+---------------------------------------------------------------------------+-------------+---------------------------------+--------------------------+\n",
      "| number_of_websites_with_client_hints.sql                                  |             |                                 | Filename filter mismatch |\n",
      "+---------------------------------------------------------------------------+-------------+---------------------------------+--------------------------+\n",
      "| number_of_websites_with_dnt.sql                                           |             |                                 | Filename filter mismatch |\n",
      "+---------------------------------------------------------------------------+-------------+---------------------------------+--------------------------+\n",
      "| number_of_websites_with_gpc.sql                                           |             |                                 | Filename filter mismatch |\n",
      "+---------------------------------------------------------------------------+-------------+---------------------------------+--------------------------+\n",
      "| number_of_websites_with_iab.sql                                           |             |                                 | Filename filter mismatch |\n",
      "+---------------------------------------------------------------------------+-------------+---------------------------------+--------------------------+\n",
      "| number_of_websites_with_nb_trackers.sql                                   |             |                                 | Filename filter mismatch |\n",
      "+---------------------------------------------------------------------------+-------------+---------------------------------+--------------------------+\n",
      "| number_of_websites_with_referrerpolicy.sql                                |             |                                 | Filename filter mismatch |\n",
      "+---------------------------------------------------------------------------+-------------+---------------------------------+--------------------------+\n",
      "| number_of_websites_with_related_origin_trials.sql                         |             |                                 | Filename filter mismatch |\n",
      "+---------------------------------------------------------------------------+-------------+---------------------------------+--------------------------+\n",
      "| number_of_websites_with_whotracksme_trackers.sql                          |             |                                 | Filename filter mismatch |\n",
      "+---------------------------------------------------------------------------+-------------+---------------------------------+--------------------------+\n",
      "| privacy-sandbox-adoption-by-third-parties-by-publishers.sql               |             |                                 | Filename filter mismatch |\n",
      "+---------------------------------------------------------------------------+-------------+---------------------------------+--------------------------+\n",
      "| top_ara_destinations_registered_by_most_publishers.sql                    |             |                                 | Filename filter mismatch |\n",
      "+---------------------------------------------------------------------------+-------------+---------------------------------+--------------------------+\n",
      "| top_ara_destinations_registered_by_most_third_parties.sql                 |             |                                 | Filename filter mismatch |\n",
      "+---------------------------------------------------------------------------+-------------+---------------------------------+--------------------------+\n",
      "\n",
      "✓ Processed 27 queries\n"
     ]
    }
   ],
   "source": [
    "# @title Upload query results to Google Sheets\n",
    "import glob\n",
    "import re\n",
    "from tabulate import tabulate\n",
    "from IPython.display import clear_output, display, HTML\n",
    "\n",
    "# Query filters and options\n",
    "filename_match = 'most_common_cmps_for_iab_tcf_v2.sql' # @param {type: \"raw\", placeholder: \"Enter regexp wrapped in quotes\"}\n",
    "filename_match_exclude = '' # @param {type: \"raw\", placeholder: \"Enter regexp wrapped in quotes\"}\n",
    "dry_run = False # @param {type: \"boolean\"}\n",
    "overwrite_sheets = True # @param {type: \"boolean\"}\n",
    "maximum_tb_billed = 7 # @param {type: \"raw\", placeholder: \"Max TB to bill per query\"}\n",
    "\n",
    "# Setup file filters\n",
    "filename_include_regexp = r'.*' if not filename_match or filename_match == '*' else filename_match\n",
    "filename_exclude_regexp = r'^$' if not filename_match_exclude else filename_match_exclude\n",
    "\n",
    "# Build path to SQL files\n",
    "sql_folder = os.path.join(os.getcwd(), '../', str(almanac_year), chapter_name.lower(), '*.sql')\n",
    "print(f\"Looking for SQL files in: {sql_folder}\")\n",
    "sql_files = sorted(glob.glob(sql_folder))\n",
    "\n",
    "if not sql_files:\n",
    "    print(\"❌ No SQL files found. Check the folder path.\")\n",
    "else:\n",
    "    print(f\"Found {len(sql_files)} SQL files\\n\")\n",
    "\n",
    "    # Progress tracking\n",
    "    queries_processed_log = []\n",
    "\n",
    "    def log_result(filename, tb_processed=None, sheet_name=None, skip_reason=None, preview=False):\n",
    "        \"\"\"Add result to log and display table\"\"\"\n",
    "        log_entry = [filename, tb_processed, sheet_name, skip_reason]\n",
    "        if not preview:\n",
    "            queries_processed_log.append(log_entry)\n",
    "\n",
    "        # Build table from current log plus preview entry if needed\n",
    "        display_log = queries_processed_log if not preview else queries_processed_log + [log_entry]\n",
    "        table = tabulate(display_log, headers=['Query', 'TB Billed', 'Sheet', 'Status/Skip Reason'], tablefmt=\"grid\")\n",
    "        clear_output(wait=True)\n",
    "        print(table)\n",
    "\n",
    "    # Process each SQL file\n",
    "    for filepath in sql_files:\n",
    "        filename = os.path.basename(filepath)\n",
    "\n",
    "        # Show processing status\n",
    "        log_result(filename, 'Processing...', 'Processing...', 'Processing...', preview=True)\n",
    "\n",
    "        # Check if filename matches filters\n",
    "        if not re.search(filename_include_regexp, filename) or re.search(filename_exclude_regexp, filename):\n",
    "            log_result(filename, None, None, 'Filename filter mismatch')\n",
    "            continue\n",
    "\n",
    "        # Read query\n",
    "        with open(filepath) as f:\n",
    "            query = f.read()\n",
    "\n",
    "        # Estimate query cost (dry run)\n",
    "        try:\n",
    "            dry_run_response = client.query(query, job_config=bigquery.QueryJobConfig(dry_run=True))\n",
    "            tb_processed = dry_run_response.total_bytes_processed / 1024**4\n",
    "        except Exception as e:\n",
    "            log_result(filename, None, None, f'Dry run error: {str(e)[:100]}...')\n",
    "            continue\n",
    "\n",
    "        # Generate sheet title from filename\n",
    "        sheet_title = re.sub(r'(\\.sql|[^a-zA-Z0-9]+)', ' ', filename).strip().title()\n",
    "\n",
    "        # Skip execution if dry run mode\n",
    "        if dry_run:\n",
    "            log_result(filename, f'{tb_processed:.3f}', sheet_title, 'Dry run mode')\n",
    "            continue\n",
    "\n",
    "        # Check if sheet already exists\n",
    "        if sheet_title in existing_sheets and not overwrite_sheets:\n",
    "            log_result(filename, f'{tb_processed:.3f}', sheet_title, 'Sheet exists (set overwrite_sheets=True)')\n",
    "            continue\n",
    "\n",
    "        # Execute query and upload to Sheets\n",
    "        try:\n",
    "            # Run query with billing limit\n",
    "            job_config = bigquery.QueryJobConfig()\n",
    "            if maximum_tb_billed:\n",
    "                job_config.maximum_bytes_billed = int(maximum_tb_billed * 1024**4)\n",
    "\n",
    "            query_response = client.query(query, job_config=job_config)\n",
    "            df = query_response.to_dataframe()\n",
    "\n",
    "            # Get or create sheet\n",
    "            if sheet_title in existing_sheets:\n",
    "                sheet = ss.worksheet(sheet_title)\n",
    "            else:\n",
    "                sheet = ss.add_worksheet(sheet_title, rows=1, cols=1)\n",
    "                existing_sheets.append(sheet_title)\n",
    "\n",
    "            # Upload data\n",
    "            set_with_dataframe(sheet, df, resize=False)\n",
    "\n",
    "            tb_billed = query_response.total_bytes_billed / 1024**4\n",
    "            log_result(filename, f'{tb_billed:.3f}', sheet_title, '✓ Uploaded')\n",
    "\n",
    "        except Exception as e:\n",
    "            log_result(filename, f'{tb_billed:.3f}', None, f'Query error: {str(e)[:100]}...')\n",
    "\n",
    "    print(f\"\\n✓ Processed {len(queries_processed_log)} queries\")"
   ]
  }
 ],
 "metadata": {
  "colab": {
   "provenance": []
  },
  "kernelspec": {
   "display_name": ".venv (3.12.7)",
   "language": "python",
   "name": "python3"
  },
  "language_info": {
   "codemirror_mode": {
    "name": "ipython",
    "version": 3
   },
   "file_extension": ".py",
   "mimetype": "text/x-python",
   "name": "python",
   "nbconvert_exporter": "python",
   "pygments_lexer": "ipython3",
   "version": "3.12.7"
  }
 },
 "nbformat": 4,
 "nbformat_minor": 0
}
