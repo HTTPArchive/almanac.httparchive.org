{
 "cells": [
  {
   "cell_type": "markdown",
   "metadata": {
    "colab_type": "text",
    "id": "view-in-github"
   },
   "source": [
    "<a href=\"https://colab.research.google.com/github/HTTPArchive/almanac.httparchive.org/blob/main/src/tools/scripts/chart-adjustments.ipynb\" target=\"_parent\"><img src=\"https://colab.research.google.com/assets/colab-badge.svg\" alt=\"Open In Colab\"/></a>"
   ]
  },
  {
   "cell_type": "code",
   "execution_count": null,
   "metadata": {
    "id": "cOcbpC6qRou_"
   },
   "outputs": [],
   "source": [
    "from google.colab import auth\n",
    "from googleapiclient.discovery import build\n",
    "\n",
    "def update_chart_size(spreadsheet_id, is_dry_run=False, target_width=600, target_height=None):\n",
    "    response = sheets_service.spreadsheets().get(spreadsheetId=spreadsheet_id, includeGridData=False).execute()\n",
    "    sheets = response.get('sheets', [])\n",
    "\n",
    "    for sheet in sheets:\n",
    "        charts = sheet.get('charts', [])\n",
    "\n",
    "        for chart in charts:\n",
    "            chart_id = chart['chartId']\n",
    "            update_request = {\n",
    "                'updateEmbeddedObjectPosition': {\n",
    "                    'objectId': chart_id,\n",
    "                    'newPosition': {\n",
    "                        'overlayPosition': {\n",
    "                            'widthPixels': target_width\n",
    "                        }\n",
    "                    },\n",
    "                    'fields': 'widthPixels'\n",
    "                }\n",
    "            }\n",
    "\n",
    "            if target_height is not None:\n",
    "                update_request['updateEmbeddedObjectPosition']['newPosition']['overlayPosition']['heightPixels'] = target_height\n",
    "                update_request['updateEmbeddedObjectPosition']['fields'] += ',heightPixels'\n",
    "\n",
    "            if not is_dry_run and \\\n",
    "                (chart['position']['overlayPosition']['widthPixels'] != target_width or\n",
    "                 (target_height is not None and chart['position']['overlayPosition']['heightPixels'] != target_height)):\n",
    "                sheets_service.spreadsheets().batchUpdate(spreadsheetId=spreadsheet_id, body={'requests': [update_request]}).execute()\n",
    "\n",
    "                print(f\"\"\"sheet: {sheet['properties']['title']},\n",
    "chart: {chart['spec']['title']},\n",
    "dimensions: {chart['position']['overlayPosition']['widthPixels']} x {chart['position']['overlayPosition'].get('heightPixels', 'N/A')}\n",
    "                \"\"\")\n",
    "\n",
    "# Authenticate the user\n",
    "auth.authenticate_user()\n",
    "sheets_service = build('sheets', 'v4', cache_discovery=False)"
   ]
  },
  {
   "cell_type": "code",
   "execution_count": null,
   "metadata": {
    "id": "vp1izUBSLxp9"
   },
   "outputs": [],
   "source": [
    "# Replace this with the ID of your Google Sheets file\n",
    "SPREADSHEET_ID = '18r8cT6x9lPdM-rXvXjsqx84W7ZDdTDYGD59xr0UGOwg'\n",
    "\n",
    "# Call the function to update the chart width\n",
    "update_chart_size(SPREADSHEET_ID, is_dry_run=True)"
   ]
  }
 ],
 "metadata": {
  "colab": {
   "authorship_tag": "ABX9TyPVUT2KvU+kgVkDQrz8dLoZ",
   "include_colab_link": true,
   "private_outputs": true,
   "provenance": []
  },
  "kernelspec": {
   "display_name": "Python 3",
   "name": "python3"
  },
  "language_info": {
   "name": "python"
  }
 },
 "nbformat": 4,
 "nbformat_minor": 0
}
